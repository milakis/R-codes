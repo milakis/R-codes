{
 "cells": [
  {
   "cell_type": "code",
   "execution_count": 23,
   "metadata": {},
   "outputs": [],
   "source": [
    "rm(list=ls())\n",
    "#install.packages(\"matrixStats\")\n",
    "library(\"matrixStats\")\n",
    "require(parallel)\n",
    "#install.packages(\"MASS\")\n",
    "library(MASS)\n",
    "#install.packages(\"glmnet\")\n",
    "library(\"glmnet\")\n",
    "#install.packages(\"pbapply\")\n",
    "library(pbapply)\n",
    "#install.packages(\"stats\")\n",
    "library('stats')\n",
    "#install.packages(\"tseries\")\n",
    "library(\"tseries\")\n",
    "#install.packages(\"xtable\")\n",
    "library(\"xtable\")\n",
    "#install.packages(\"ggplot2\")\n",
    "library(\"ggplot2\")\n",
    "#install.packages(\"dplyr\")\n",
    "library(\"dplyr\")\n",
    "#install.packages(\"tidyr\")\n",
    "library(\"tidyr\")"
   ]
  },
  {
   "cell_type": "markdown",
   "metadata": {},
   "source": [
    "# Performance of shrinkage methods in macroeconomic forecasting\n",
    "\n",
    "The project by [Liudmila Kiseleva](https://github.com/milakis) for the course [Computational Statistics](https://github.com/ljanys/CompStat/).\n",
    "\n",
    "Based on the paper Smeekes, S., and Wijler, E. (2018). [Macroeconomic forecasting using penalized regression methods](https://www.sciencedirect.com/science/article/pii/S0169207018300074). International Journal of Forecasting, 34(3), 408-430."
   ]
  },
  {
   "cell_type": "markdown",
   "metadata": {},
   "source": [
    "## Abstract\n",
    "\n",
    "Forecasting macroeconomic outcomes by the nonstructural methods appears to be not an easy task: macroeconomic data tends to be high-dimensional. Traditionally, shrinkage methods are considered to be a solution for performing forecasts in a high-dimensional setting with many potential predictors. I focus on ridge and lasso regressions. First, I describe their theoretical properties and explain their differences. Second, I simulate realistic macroeconomic time series to evaluate ridge and lasso performance in the sparse/abundant models; in the models with different number of predictors; in the models with cross-sectional and serial correlation. Finally, I apply ridge and lasso regressions to the [FRED Monthly Database for Macroeconomic Research](https://research.stlouisfed.org/econ/mccracken/fred-databases/) to compare their performance for few selected macroeconomic variables. I obtain predictable result: ridge and lasso tend to outperform each other when the Data Generation Process for the series differs. Therefore, I conclude that an optimal strategy for macroeconomists would be not to choose one shrinkage method to perform the forecast; but to combine few methods and compare the results."
   ]
  },
  {
   "cell_type": "markdown",
   "metadata": {},
   "source": [
    "## Table of Contents\n",
    "\n",
    "* [1. Introduction](#introduction)\n",
    "* [2. Shrinkage methods description](#chapter2)\n",
    "    * [2.1 Motivation for shrinkage methods in macroeconomic forecasting](#section_2_1) \n",
    "    * [2.2 Theoretical properties of the OLS estimator](#section_2_2)\n",
    "    * [2.2 Theoretical properties of the ridge estimator](#section_2_3)\n",
    "    * [2.2 Theoretical properties of the lasso estimator](#section_2_4)\n",
    "* [3. Simulation study](#chapter3)\n",
    "    * [3.1 Data simulation and estimation algorithms](#section_3_1) \n",
    "    * [3.2 Demonstration of one trial](#section_3_2)\n",
    "    * [3.3 Sparsity and number of predictors effects](#section_3_3)\n",
    "    * [3.4 Cross-sectional and serial correlation effects](#section_3_4)\n",
    "* [4. Empirical application](#chapter4)\n",
    "    * [4.1 Data preparation](#section_4_1)\n",
    "    * [4.2 Application](#section_4_2)\n",
    "* [5. Conclusion](#chapter5)\n",
    "* [6. References](#chapter6)"
   ]
  },
  {
   "cell_type": "markdown",
   "metadata": {},
   "source": [
    "## 1. Introduction <a class=\"anchor\" id=\"introduction\"></a>"
   ]
  },
  {
   "cell_type": "markdown",
   "metadata": {},
   "source": [
    "Forecasting macroeconomic variables by the nonstructural methods appears to be not an easy task: macroeconomic data tends to be high-dimensional. That happens because data availability is naturally limited by time; however, the number of potential predictors might be notoriously high. High dimensionality leads to a lot of variability in the fit or even to the infinite variance; high variance applies that small changes in the data can result in large changes in the estimate. Therefore, the forecast might not yield accurate estimates of the response on new observations that were not part of the original data set. Traditionally, regularization methods are considered to be a solution for performing forecasts in the high-dimensional setting with many potential predictors. I choose one of the group of regularization methods - shrinkage methods - to demonstrate their ability to solve curse of dimensionality issue and to compare their performance in different settings.\n",
    "\n",
    "In my project I focus on two shrinkage methods: ridge and lasso regressions. Their main idea is to regularize the coefficients with specific penalty functions to control the variance. Penalty functions force the variance of the coefficient estimates to decrease towards zero at the cost of larger bias of the estimates. The difference between ridge and lasso lies in the specification of the penalty functions: the former uses $l_2$-norm and the later - $l_1$-norm. With the help of the $l_2$-norm ridge regression shrinks the coefficients towards zero but never sets them exactly to zero. On the other hand, with the $l_1$-norm lasso sets some coefficients exactly equal to zero; hence, lasso also performs the model selection for us. \n",
    "\n",
    "This difference in approaches justifies the fact that ridge and lasso outperform each other in the settings with various Data Generation Processes (DGP). First, we would expect that lasso will show better performance when many of the true coefficients in the model are, in fact, equal to zero. I call it sparse model. On the opposite, ridge is expected to perform better in the abundant model when many predictors, indeed, have some effect on the response variable. I demonstrate this in my simulation study based on Smeekes and Wijler (2018). I generate the data with the purpose to resemble the realistic macroeconomic times series. Then I vary the number of predictors of which true coefficients are equal to zero. The performance of each method is evaluated by the test mean square error (MSE). I obtain the predictable result that ridge outperforms lasso in the abundant model and lasso outperforms ridge in the sparse model. I do this for the different number of potential predictors to show the curse of dimensionality in practice: the variance is appeared to be proportional to the number of variables included in the model. Another interesting fact is that the variance tends to be larger in the abundant model. It can be explained by the potential multicolinearity between variables. Since a large part of variables has an effect on reponse, it is challenging to identify the effect between relevant and irrelevant  variables. To evaluate this statement I manually introduce multicolinearity to the data. I observe similar picture: the MSE substantially increases in the abundant mode;l and ridge/lasso is a favorable method in the abundant/sparse model. Finally, I add serially correlated errors to the model to mimic the time series data structure. Serial correlation in the error terms might signal that the lagged version of the dependant variable is missed in the specification. I do not find any significant effect on the difference in performance between ridge and lasso; however, the variance for all specifications tends to be underestimated. \n",
    "\n",
    "To illustrate how ridge and lasso will perform in empirical setting I use [FRED Monthly Database for Macroeconomic Research](https://research.stlouisfed.org/econ/mccracken/fred-databases/). The database presents 135 variables on a monthly basis beginning from 1959. I select four response variables: Total Industrial Production, Civilian Employment, Real Personal Consumption Expenditures, and Effective Federal Funds Rate. Consequently, the other variables in the database as well as the lags of a response variables would be potential predictors. In the estimation I follow the rolling window approach as in Smeekes and Wijler (2018). It means that an initial in-sample period covering 10 years of monthly observations is used to estimate the models by which to obtain the first out-of-sample prediction. For each new prediction, we keep the length of the in-sample period fixed and move the estimation sample forward by one period. The number of optimal lags is determined by BIC. I apply the forecasting horizon of six months. As the result, I find that ridge produces lower MSE for two response variables and lasso - for the other two reponse variables. That means that the DGP of the series in the macroeconomic dataset might differ; therefore, there is no universal shrinkage method which we can apply to macroeconomic data and which will outperform the others in any ocassion.\n",
    "\n",
    "In section 2 I explain why I choose to apply shrinkage methods in macroeconomic forecasting. I also present the theoretical properties of the ridge and lasso regressions in comparison to the OLS. In section 3 I describe how I generate data and implement the simulation study. In section 4 I perform the empirical application of ridge and lasso with macroeconomic dataset. I conclude in section 5."
   ]
  },
  {
   "cell_type": "markdown",
   "metadata": {},
   "source": [
    "## 2. Shrinkage methods description  <a class=\"anchor\" id=\"chapter2\"></a>"
   ]
  },
  {
   "cell_type": "markdown",
   "metadata": {},
   "source": [
    "In this section I explain why I choose to apply shrinkage methods in a high-dimensional times series data setting and provide a short literature review on the topic. Then I describe theoretical properties of the methods. For this I begin with the classical properties of the OLS estimator. Then I report how these properties can be expanded with the penalty functions used in ridge and lasso estimation. Detailed representation of the properties allows me to demonstrate how shrinkage methods ressolve the issues induced by the DGP and illustrate under what conditions one method can outperform the other. "
   ]
  },
  {
   "cell_type": "markdown",
   "metadata": {},
   "source": [
    "**2.1 Motivation for shrinkage methods in macroeconomic forecasting**  <a class=\"anchor\" id=\"section_2_1\"></a>\n",
    "\n",
    "The macroeconomic forecasting literature can be divided into two large parts: structural and nonstructural forecasting methods.Structural methods interpret economic data through the lens of economic theory. In particular, economic theory guides a researcher in developing mathematical statements about how a variable of interest is related to a set of \"explanatory\" variables. These economic assumptions define an empirical model that is capable of predicting possible observable outcomes. Nonstructural methods, on the other hand, rely on economic theory little. They attempt to exploit the reduced-form correlations in observed macroeconomic time series and forecast output variables on the grounds of statistical knowledge. In my project I focus my attention on the nonstructural methods of forecasting; in particular, on the ability of statistical learning techniques to predict macroeconomic outcomes.\n",
    "\n",
    "Statistical learning theory includes regression, classification, regularization, tree based and the other groups of forecasting methods. The choice of a specific method depends on few factors: on the data structure; on the goal a researcher pursues, for example, interpretability of a forecast; and on the assumption of the underlying DGP of the dataset of interest. Refering to the data structure, forecasting macroeconomic variables appears to be not an easy task: the datasets tend to be presented in a high-dimensional times series setting. The reason for high dimensionality lies in the natural limit of the data availability back in time; for instance, some of the most frequently used modern macroeconomic monthly databases start in 1959 (Stock and Watson (2014), McCracken and Ng (2015)). At the same time, the number of potential predictors of business cycle fluctuations might be notoriously high. Therefore, the number of predictors can be close/equal to or more than the number of observations. The former leads to a lot of variability in the fit; the later - to a non-unique least squares estimates and the infinite variance. The high variance might be not in favor while forecasting because small changes in the data can result in large changes in the estimate.  Hence, the forecast obtained will not yield accurate estimates of the response on new observations that were not part of the original data set. The second factor in choosing a method is how easily the forecasted result is interpretable. Even though the number of potential predictors can be large, only some of the variables might be associated with the response. Including irrelevant variables results in unnecesary complexity of the model and, hence, in difficulty with its interpretation. \n",
    "\n",
    "Traditionally, regularization methods are considered to be a solution for performing forecasts in the high-dimensional setting with many potential predictors. This group of techniques improves simple linear regression model by replacing least square fitting with the alternative fitting procedures. Specifically, subset selection approach involves identifying the subset of input variables that are related to a response and runnig a regression on a reduced set of variables. Penalized methods, such as ridge and lasso regressions, shrink the estimated coefficients towards zero what has an effect of variance reduction and, depending on the method, variable selection. Dimension reduction approach computes $M$ linear combinations, or projections, of $p$ predictors, where $M < p$, and uses these projections in the least squares regression. Hence, regularization methods propose more restrictive procedure for macroeconomic forecasting with the higher level of prediction accuracy and lower variance compared to the simple least squares regression or tree based methods.  \n",
    "\n",
    "Subset selection methods, in particular, backward and forward stepwise regressions, do not appear to be popular among macroeconomists to produce forecasts for few reasons. First, stepwise algorithms appear to be ‘greedy’: it is not guaranteed that best possible model containing a subset of the predictors would be found. Second, they perform what is known as ‘hard thresholding’: regressor set selected from the available predictors may disagree with the one chosen when the number of available predictors is increased or decreased slightly. In other words, hard thresholding is sensitive to the small changes in the data. For these reasons I don't concentrate on subset selection methods in my project. Dimension reduction methods principal component analysis (PCA) and factor analysis, on the other hand, became the workhorse methods for macroeconomic forecasting. Factor models were demonstrated to perform prominently by Stock and Watson (1999) and Stock and Watson (2002). PCA has been the preferable way of factor model estimations; rigorous illustrations can be found in Bai and Ng (2002), Bai (2003), and Bai and Ng (2006). Consequently, dimension reduction methods is the huge topic for the research; I will leave it for now because of the limited capacity of my project.\n",
    "\n",
    "In my work I focus on the shrinkage methods; specifically, on the ridge and lasso regressions. Ridge regression was introduced by Hoerl and Kennard (1970). The main idea of ridge is to penalize the regression coefficients to reduce the variance at the cost of estimator bias using $l_2$-norm as a penalty function. The Least Absolute Shrinkage and Selection Operator (lasso) was proposed by Tibshirani (1996). It uses $l_1$-norm penalty function which allows to shrink some of the regression coefficients exactly to zero and, therefore, it additionally performs variable selection. Since the time of the first publications ridge and lasso became a popular tool for estimation in medicine and biological studies (Jain (1985), Ogutu et al. (2012), Vlaming and Groenen (2015), Goebl et al. (2015), Zhang et al. (2017)); agriculture (Conniffe et al. (1976), Pimentel et al. (2007), Jamal (2007), Singh (2019), Johnston (2019)); sociology (Bucca and Urbina (2017), Beard (2019), Molina and Garip (2019)); and in the other disciplines including various fields in economics (Huang and Mintz (1990), Schneider and Wagner (2008), Jean et al. (2016), Mullainathan and Spiess (2017),  McKenzie and  Sansone (2019)).\n",
    "\n",
    "In recent macroeconomic forecasting literature shrinkage methods got a lot of attention in various time series high-dimensional settings.  The authors attempt to assess the properties of ridge and lasso in autoregressive (AR) and vector autoregressive (VAR) models; in stationary and non-stationary processes with Gaussian and non-Gaussian errors. For instance, De Mol et al. (2008) compare PCA with penalized regressions in a forecasting model without lags and with Gaussian errors. Wang et al. (2007) and Hsu et al. (2008) assess subset selection via the lasso in AR and VAR models. Kim and Swanson (2014) apply data reduction methods in an empirical setting. Kock and Callot (2015) establish non-asymptotic oracle inequalities for the prediction error in stationary VAR. Basu and Michailidis (2015) apply regularized estimation in stochastic regression with serially correlated errors and in VAR models. Medeiros and Mendes (2016) study the asymptotic properties of the lasso when the errors are non-Gaussian and conditionally heteroskedastic. The paper of my interest by Smeekes and Wijler (2018) evaluates the performance of shrinkage methods under different settings: in stationary processes with serially corrrelated and not correlated errors; with increasing number of predictors; with non-stationary and cointegrated variables; in an empirical setting with AR terms. I choose some of these specifications which I consider to be relevant and apply them in my simulation and empirical studies."
   ]
  },
  {
   "cell_type": "markdown",
   "metadata": {},
   "source": [
    "**2.2 Theoretical properties of the OLS estimator** <a class=\"anchor\" id=\"section_2_2\"></a>\n",
    "\n",
    "Shrinkage methods help to solve the problem of high variance in high-dimensional data. However, the performance of each method depends on the assumed DGP of a dataset of interest. To show how ridge and lasso lower the variance and in what setting each of the method might be favorable, I start with the theoretical properties of the OLS estimator. I expand them for ridge and lasso in the next sub-sections.\n",
    "\n",
    "Consider the linear regression model in the form:\n",
    "\n",
    "$$Y = X \\beta +\\epsilon,$$\n",
    "\n",
    "where:\n",
    "- $Y = (y_1,...,y_n)^T$ is a vector of $n$ responses\n",
    "- $X = (x'_1,...,x'_n)^T$ is a $n \\times p$ matrix of predictors of rank $p (\\leq n)$\n",
    "- $\\beta = (\\beta_1,...,\\beta_p)^T$ is a $p$ vector of coefficients\n",
    "- $\\epsilon$ is a $n$ vector of independently and identically distributed (i.i.d.) error terms, $E(\\epsilon)=0$ and $E(\\epsilon \\epsilon^T) = \\sigma^2 I_n$\n",
    "\n",
    "The least square estimator of $\\beta$ can be obtained by minimizing the residual sum of squares (RSS):\n",
    "\n",
    "$$\\mathop{min}_{\\textbf{$\\beta$}}((Y - X \\beta)^T (Y - X \\beta))$$\n",
    "\n",
    "Solving it with respect to $\\beta$ gives:\n",
    "\n",
    "$$\\hat{\\beta}^{ols} = (X^T X)^{-1} X^T Y$$ (1)\n",
    "\n",
    "Additionally, OLS estimator is unbiased: \n",
    "\n",
    "$$E(\\hat{\\beta}^{ols}) = E((X^T X)^{-1} X^T Y) = E(\\beta + (X^T X)^{-1} X^T \\epsilon) = \\beta$$, \n",
    "\n",
    "and its variance–covariance matrix is equal to:\n",
    "\n",
    "$$Var(\\hat{\\beta}^{ols}) = E((\\hat{\\beta}^{ols} - \\beta)(\\hat{\\beta}^{ols} - \\beta)^T) = E((X^T X)^{-1} X^T \\epsilon \\epsilon^T X (X^T X)^{-1}) = \\sigma^2 (X^T X)^{-1}$$ (2).\n",
    "\n",
    "From (1) we can see that OLS estimator is only definied if $(X^T X)^{-1}$ exist, therefore, matrix $X^T X$ should be full-rank. Otherwise, the matrix is invertible and its determinant is equal to zero. This is the case when the columns of $X$ can be written as a linear combination of the other columns and, hence, the covariates are perfectly multicolinear. If we try to compute the variance from (2), we face a division-by-zero problem: we divide $\\sigma^2$ by zero and, as a consequence, the variances of the regression coefficients (the diagonal elements of $Var(\\hat{\\beta}^{ols})$) go to infinity. This case mostly occurs in a high-dimensional data in which the number of covariates $p$ exceeds the number of observations $n$. \n",
    "\n",
    "If one of the regressors is highly correlated with the other regressors, then the regression suffers from multicollinearity, although the multicollinearity is not perfect. In such a case the matrix is full-rank, but it is not very far from being rank-deficient. Continuing with the division-by-zero analogy above, when multicollinearity is not perfect, we are dividing $\\sigma^2$ in equation (2) by a number that is very small, so that the variances of the regression coefficients are very large."
   ]
  },
  {
   "cell_type": "markdown",
   "metadata": {},
   "source": [
    "**2.3 Theoretical properties of the ridge estimator** <a class=\"anchor\" id=\"section_2_3\"></a>\n",
    "\n",
    "We have seen that, if the data is high-dimensional and multicolinear, then the matrix $(X^T X)^{-1}$ from the equation (1) can be a very small number or zero. Therefore, the coefficients $\\hat{\\beta}^{ols}$ can explode (become large). Here lies the main idea behind ridge regression: to control variance, we might constraint or regularize the coefficients. Hence, the minimization of the penalized residual sum of squares (PRSS) is equivalent to solving the following convex optimization problem:\n",
    "\n",
    "$$\\mathop{min}_{\\textbf{$\\beta$}}(Y - X \\beta)^T (Y - X \\beta)$$\n",
    "\n",
    "subject to the $$\\sum_{j=1}^{p} \\beta_j^2 \\leq t$$ (3)\n",
    "\n",
    "for some positive value $t$. $||\\beta||_2 = \\sum_{j=1}^{p} \\beta_j^2$ is also called $l_2$-norm. \n",
    "\n",
    "Two important assumptions:\n",
    "- $X$ is assumed to be standardized (zero mean, unit variance)\n",
    "- $Y$ is assumed to be centered\n",
    "\n",
    "We solve the penalized residual sum of squares:\n",
    "\n",
    "$$PRSS(\\beta)_{l_2} = (Y - X \\beta)^T (Y - X \\beta) + \\lambda \\sum_{j=1}^{p} \\beta_j^2 $$\n",
    "\n",
    "$\\lambda \\geq 0$ is called tuning parameter and $\\lambda \\sum_{j=1}^{p} \\beta_j^2$ is shrinkage penalty term. Notice that the intercept $\\beta_0$ is not included to the penalty term: we want to shrink the estimated coefficients of the predictors but not the intercept, which is simply a measure of the mean value of the response.\n",
    "\n",
    "That gives the following ridge estimator:\n",
    "\n",
    "$$\\hat{\\beta}^{ridge} = (X^T X + \\lambda I_p)^{-1} X^T Y$$ \n",
    "(3.1)\n",
    "\n",
    "Since we are adding a positive constant to the diagonal of $X^T X$, we are, in general, producing an invertible\n",
    "matrix, $X^T X + \\lambda I_p$, even if $X^T X$ is singular. \n",
    "\n",
    "The ridge regression estimator is related to the classical OLS estimator in the following manner:\n",
    "\n",
    "$$\\hat{\\beta}^{ridge} = (X^T X + \\lambda I_p)^{-1} X^T Y = (I_p + \\lambda (X^T X)^{-1})(X^T X)^{-1} X^T Y = (I_p + \\lambda (X^T X)^{-1}) \\hat{\\beta}^{ols} $$ \n",
    "\n",
    "Ridge estimator is biased estimator of the true parameter $\\beta$ if $\\lambda \\neq 0$:\n",
    "\n",
    "$$E(\\hat{\\beta}^{ridge}) = E((I_p + \\lambda (X^T X)^{-1}) \\hat{\\beta}^{ols}) = (I_p + \\lambda (X^T X)^{-1}) \\beta \\neq \\beta$$ (4)\n",
    "\n",
    "We can see from the equation (4) that  the bias of the ridge estimator is proportional to $\\lambda$. That is, the larger is $\\lambda$, the larger is the bias of the ridge estimator with respect to $\\beta$.\n",
    "\n",
    "The variance of the ridge estimator is:\n",
    "\n",
    "$$Var(\\hat{\\beta}^{ridge}) = E(\\hat{\\beta}^{ridge} - \\beta)(\\hat{\\beta}^{ridge} - \\beta)^T) = E((X^T X + \\lambda I_p)^{-1} X^T \\epsilon \\epsilon^T X (X^T X + \\lambda I_p)^{-1}) = \\sigma^2 W (X^T X)^{-1} W^T,$$ (5).\n",
    "\n",
    "where $W = (X^T X + \\lambda I_p)^{-1} X^T X$. \n",
    "\n",
    "The variance of the ridge regression estimator vanishes as $\\lambda$ tends to infinity:\n",
    "\n",
    "$$\\lim_{\\lambda\\to\\infty} Var(\\hat{\\beta}^{ridge}) = \\lim_{\\lambda\\to\\infty} \\sigma^2 W (X^T X)^{-1} W^T = 0_{pp}$$\n",
    "\n",
    "*Hence, the variance of the ridge coefficient estimates decreases towards zero and the bias becomes larger as the penalty parameter becomes large.*\n",
    "\n",
    "The next question is whether such $\\lambda$ exist so that the ridge regression estimator may outperform the OLS estimator. Theorem 2 by Theobald (1974) provides the proof using the concept of the MSE. The MSE of any estimator of a parameter $\\theta$ can be presented as the sum of the variance of the estimator and the squared bias of the estimator: $MSE(\\hat{\\theta}) = Var(\\hat{\\theta}) + [Bias(\\hat{\\theta})]^2$. The equation implies that in the case of unbiased estimators, the MSE and variance are equivalent. \n",
    "\n",
    "Theorem 2 says that, if the condition \n",
    "\n",
    "$$\\lambda < 2 \\sigma^2 ((\\beta^{ridge})^T \\beta^{ridge})^{-1}$$\n",
    "(5)\n",
    "\n",
    "is satisfied, then \n",
    "\n",
    "$$MSE(\\hat{\\beta}^{ridge}(\\lambda)) < MSE(\\hat{\\beta}^{ridge}(0)) = MSE(\\hat{\\beta}^{ridge})$$. \n",
    "\n",
    "Theorem illustrates that the ridge regression estimator strikes a balance between the bias and variance: for small $\\lambda$ the variance of the ridge estimator dominates the MSE and the ridge estimator is close to the unbiased OLS estimator. For large $\\lambda$ the variance vanishes and the bias dominates the MSE. Also, according to the equation (5), the optimal value of $\\lambda$ depends on the quantities $\\beta$ and $\\sigma^2$; they are unknown in practice. Then, the penalty parameter is chosen in a data-driven fashion by means of cross-validation or information criterion. "
   ]
  },
  {
   "cell_type": "markdown",
   "metadata": {},
   "source": [
    "**2.3 Theoretical properties of the lasso estimator** <a class=\"anchor\" id=\"section_2_4\"></a>\n",
    "\n",
    "Ridge regression helps to reduce the variance of the estimator. However, it will not set any of the ridge coefficients exactly to zero: from the equation (3.1) matrix $X^T X$ is positive semi-definite  and no increase in non-negative $\\lambda$ will drive the estimator to zero. Hence, ridge regression will include all the predictors to the final model. It is a disadvantage of ridge regression because while we are working with complex models we may want to produce sparse solution for better interpretability of the final result. The lasso provides this kind of solution: for large enough tuning parameter $\\lambda$ it sets some coefficients exactly equal to zero. So then the lasso also performs the model selection for us. \n",
    "\n",
    "Lasso convex optimization problem looks similar to the ridge problem: \n",
    "\n",
    "$$\\mathop{min}_{\\textbf{$\\beta$}}(Y - X \\beta)^T (Y - X \\beta)$$\n",
    "\n",
    "subject to the $$\\sum_{j=1}^{p} |\\beta_j| \\leq t$$ \n",
    "\n",
    "Therefore, the PRSS is:\n",
    "\n",
    "$$PRSS(\\beta)_{l_1} = (Y - X \\beta)^T (Y - X \\beta) + \\lambda \\sum_{j=1}^{p} |\\beta_j| $$\n",
    "\n",
    "You can see that the lasso penalty term differs from the ridge penalty term. $||\\beta||_1 = \\sum_{j=1}^{p} |\\beta_j|$ is called $l_1$-norm. \n",
    "\n",
    "Contrary to ridge regression, the lasso does not admit a closed-form solution. The $l_1$-penalty makes the\n",
    "solution non-linear because the absolute value is not differentiable. The above constrained minimization is a quadratic programming problem, whose solution can be efficiently approximated. Tibshirani (1996) does that in the original paper and depicts geometrically why ridge and lasso shrink the coefficients to zero differently for the two parameters :\n",
    "\n",
    "![Alt](images/Tibshirani.png)\n",
    "\n",
    "On the first picture we see lasso regression and on the second - ridge regression. The residual sum of squares has elliptical contours, centered at the full least squares estimate. The constraint region for ridge regression is the disk and for lasso is the diamond. The solution is the first place that the contours touch the disk or the diamond. For the ridge regression there are no corners for the contours to hit and, hence, no zero solutions. Unlike the disk, the diamond has corners; if the solution occurs at a corner, then it has one parameter $\\beta_j$ equal to zero. If there are more than two parameters, the diamond becomes a rhomboid, and has many corners, flat edges and faces; there are many more opportunities for the estimated parameters to be zero.\n",
    "\n",
    "There exists large literature on the theoretical properties of lasso and the analytical solution in different contexts such as Buhlmann and van de Geer (2011), Tibshirani and Taylor (2011), Tibshirani (2012), Wieringen (2020a)."
   ]
  },
  {
   "cell_type": "markdown",
   "metadata": {},
   "source": [
    "## 3. Simulation study <a class=\"anchor\" id=\"chapter3\"></a>"
   ]
  },
  {
   "cell_type": "markdown",
   "metadata": {},
   "source": [
    "**3.1 Data simulation and estimation algorithms** <a class=\"anchor\" id=\"section_3_1\"></a>\n",
    "\n",
    "I simulate different specifications of the datasets based on the framework by Smeekes and Wijler (2018) assuming that these DGPs might be the ones to produce the FRED database. Simulation of a typical macroeconomic dataset will differ from the cross-sectional simulation because the observations here will have time index. That results in possible correlation between observations which is common for the time series data. Moreover, some of the procedures to work with data applied in a cross-sectional setting should be corrected in a times series setting. For example, traditional $k$-fold cross-validation (CV) is replaced by the time series CV to keep the time structure of the data intact which I describe further in the section. I focus on stationary times series, and in the empirical application I correct the time series for stationarity. Smeekes and Wijler (2018) in their original paper also simulate the non-stationary and cointegrated variables. \n",
    "\n",
    "I generate stationary processes where the dependent variable depends on observable explanatory variables and a possibly autoregressive error term:\n",
    "\n",
    "$$y_{t+1} = x'_t \\beta_x + \\epsilon_{t+1}$$\n",
    "$$(1 - \\alpha L) \\epsilon_{t+1} = v_{t+1},$$\n",
    "\n",
    "where $x_t \\sim \\mathcal{N}(0,\\sum_N)$, \n",
    "$ \\sum_N = \n",
    "\\begin{bmatrix} \n",
    "1 & ... & p^{|j-i|} \\\\\n",
    "... & ... & ...\\\\\n",
    "p^{|i-j|} & ... & 1 \\\\\n",
    "\\end{bmatrix}\n",
    "\\quad\n",
    "$ and $v_{t+1} \\sim \\mathcal{N}(0,1)$\n",
    "\n",
    "Further assumptions about the variables and their distribution depend on the specification of the dataset:\n",
    "- Criteria 1: sparsity. From the section 2 we know that ridge and lasso regressions are applied to mitigate high variance which appears because of possible multicolinearity in the data. However, the efficiency of the methods might differ for the different degrees of sparsity in the model. Since the lasso shrinks some of the coefficients exactly to zero and ridge shrinks the coeficients toward zero but never sets them exactly to zero, we would expect that the lasso will perform better when some of the true coefficients are zero and ridge, on the opposite, when the true coefficients are not zero. Therefore, I simulate two specifications of the dataset with the different degrees of sparsity in the coefficients. In the first one five coefficients are non-zero and then $\\beta_x = (i'_5,0'_{N-5})'$ where $i_5$ is a $(5 \\times 1)$ vector of ones, $0_{N-5}$ is a $((N-5) \\times 1)$ vector of zeros, and $N$ is the number of potential predictors included to the model. In the second specification $\\beta = (i'_{N*3/5},0'_{N*2/5})'$ where $i'_{N*3/5}$ is a $(N*3/5 \\times 1)$ vector of ones and $0_{N*2/5}$ is a $(N*2/5 \\times 1)$ vector of zeros.\n",
    "- Criteria 2: number of predictors. When the number of variables in the candidate set  is large relative to the number of available observations, modelling the dependent variable is likely to result in a large forecasting variance. For example, assuming the explanatory variables follow a Gaussian distribution, Stock and Watson (2006) show that the OLS forecast is normally distributed with a variance proportional to the number of variables included in the model divided by the total number of available observations. Therefore, I apply ols, ridge and lasso regressions to the number of predictors $N =10,50,100$. \n",
    "- Criteria 3: cross-sectional correlation. The presence of multicollinearity in the data, especially between relevant and irrelevant variables, leads to inconsistencies in the selection of the correct variables. We see this effect when we change the sparsity of the model. Additionally, I manually add multicolinearity to the regressors in both sparse and abundant model. For this I change the degree of cross-sectional correlation varying $p$ in the matrix $\\sum_N$. \n",
    "- Criteria 4: serial correlation. It is induced to the simulation to mimic the time series data structure. Serial correlation in the error terms might signal that the lagged version of the dependant variable is missed in the specification. I add serial correlation to the model by varying $\\alpha$. \n",
    "\n",
    "For each specification I generate $100$ observations to the $T = 99$ of which I apply the lasso and ridge regressions. To choose the tuning parameter I generate $(100 \\times 1)$ grid of $\\lambda$-values and select the optimal value by the time series CV as in Hyndman and Athanasopoulos (2018). Time series CV is performed by reserving the first part of the sample to estimate the model under various settings of the tuning parameters after which the resulting models’ fit are compared in a pseudo out-of-sample evaluation. As in the original paper by Smeekes and Wijler (2018) I adopt the threshold $c_T = (\\frac{2}{3} \\times T)$ and let $X_{cT} = (x_1,...,x_{cT})$. For each value of the tuning parameter, say, $\\lambda_j$ for $j \\in J = \\{1,...,100\\}$, the model is estimated on $X_{cT}$ to obtain the coefficient vector $\\hat{\\beta}(\\lambda_j)$. Then a pseudo out-of-sample MSE is calculated as $MSE(\\lambda_j) = \\frac{1}{T - c_T} \\sum_{t = c_T +1}^{T}(y_{t+1} - x'_t \\hat{\\beta}(\\lambda_j))^2$. The final tuning parameter is chosen as $\\hat{\\lambda} = \\mathop{arg min}_{\\textbf{$\\lambda_j$}} MSE(\\lambda_j)$. Then I estimate training data with a chosen value of $\\lambda$ and obtain the forecast $\\hat{y}_{T+1|T} = x'_{T} \\hat{\\beta}_x$ with the test observation. I repeat this procedure over $\\Gamma = 1000$ trials . The forecast performance of each specification $i$ is evaluated by the test MSE: $MSE_i = \\frac{1}{\\Gamma} \\sum_{\\gamma=1}^{\\Gamma} (y^i_{\\gamma,T+1} - \\hat{y}^i_{\\gamma,T+1})^2$. Finally, I report the MSE of the lasso, ridge and OLS regressions relative to the optimal, though infeasible, OLS oracle MSE of the sparse model. OLS oracle is a method which forecasts the dependent variable by applying OLS to the relevant variables only. I also report the average number of variables selected by each method.\n",
    "\n",
    "These functions are used for data generation, estimation and repeating this procedure for $\\Gamma$ trials:"
   ]
  },
  {
   "cell_type": "code",
   "execution_count": 25,
   "metadata": {},
   "outputs": [],
   "source": [
    "DGP <- function(rho=0, alpha=0, obs=100, vars=10, mu=rnorm(vars,0,1),stdv=runif(vars,0.001,1), spar=T){\n",
    "    \n",
    "  # For one trial this function generates the data with the following inputs:\n",
    "  # rho is an indicator of cross-sectional correlation\n",
    "  # alpha is an indicator of serial correlation in the error terms\n",
    "  # obs is a number of observations (periods)\n",
    "  # vars is a number of potential predictos\n",
    "  # mu is a vector of means of potential predictors\n",
    "  # stdv is a vector of standard deviations of potential predictors\n",
    "  # spar is an indicator of sparsity in the model\n",
    "    \n",
    "  correlations <- exp(log(rho)*abs(matrix(rep(seq(1,vars),vars),vars,vars)\n",
    "                                   -t(matrix(rep(seq(1,vars),vars),vars,vars))))\n",
    "  #transform the correlation matrix into the covariance matrix\n",
    "  if(rho==0){\n",
    "    sigma <- diag(stdv)%*%diag(stdv)\n",
    "  }else{\n",
    "    sigma <- diag(stdv)%*%correlations%*%diag(stdv)\n",
    "  }\n",
    "  \n",
    "  x <- mvrnorm(obs,mu,sigma)\n",
    "  #randomize the order to avoid a clustering of correlation in neighbouring variables\n",
    "  x <- x[,sample(1:ncol(x),ncol(x))]\n",
    "  \n",
    "  if(spar==T){\n",
    "    beta <- c(rep(1, 5), rep(0, vars-5))\n",
    "  }else{\n",
    "    beta <- c(rep(1, vars*3/5), rep(0, vars*2/5))\n",
    "  }\n",
    "  \n",
    "  u <- rnorm(obs)\n",
    "  epsilon <-vector()\n",
    "  epsilon[1] <- u[1]\n",
    "  for(i in 2:obs){\n",
    "    epsilon[i] = alpha * epsilon[i-1] + u[i]\n",
    "  }\n",
    "  \n",
    "  #DGP\n",
    "  y <- x%*%beta + epsilon\n",
    "  data<-list(y=y,x=x,coef=beta)\n",
    "  data\n",
    "}"
   ]
  },
  {
   "cell_type": "code",
   "execution_count": 38,
   "metadata": {},
   "outputs": [],
   "source": [
    "find.MSE <- function(x, y, coef, lambda.grid=lambda.grid){\n",
    "    \n",
    "    # For one trial this function:\n",
    "    # divides x and y to training and test observations including oracle samples; \n",
    "    # divides training data to sample and out-of-sample observations; \n",
    "    # derives ridge and lasso coefficients for each lambda on grid using sample data;\n",
    "    # calculates the MSE of forecast for each lambda using out-of-sample data;\n",
    "    # chooses optimal lambda by the minimal MSE;\n",
    "    # derives ridge and lasso coefficients for optimal lambda using training data, also ols coefficients;\n",
    "    # identifies the number of selected predictors for each method;\n",
    "    # calculates the MSE of forecast using test data for each method.\n",
    "\n",
    "    x.train <- x[1:(nrow(x)-1),]\n",
    "    y.train <- y[1:(nrow(y)-1),]\n",
    "    x.test <- x[nrow(x),]\n",
    "    y.test <- y[nrow(y),]\n",
    "    x.train.oracle <- x.train[,(1:sum(coef))]\n",
    "    x.test.oracle <- x.test[(1:sum(coef))]\n",
    "    x.sample <- scale(x.train[1:(2/3*nrow(x.train)),])\n",
    "    y.sample <- scale(y.train[1:(2/3*length(y.train))])\n",
    "    x.outsample <- x.train[((2/3*nrow(x.train)+1):nrow(x.train)),]\n",
    "    y.outsample <- y.train[((2/3*length(y.train)+1):length(y.train))]\n",
    "\n",
    "    MSE.lambda.ridge <- c()\n",
    "    MSE.lambda.lasso <- c()\n",
    "    for (j in 1:length(lambda.grid)){\n",
    "        lam <- lambda.grid[j]\n",
    "        ridge <- glmnet(x.sample, y.sample, alpha=0, lambda=lam, intercept=FALSE)\n",
    "        lasso <- glmnet(x.sample, y.sample, alpha=1, lambda=lam, intercept=FALSE)\n",
    "        SE.lambda.ridge <- c()\n",
    "        SE.lambda.lasso <- c()\n",
    "        for (i in 1:length(y.outsample)){\n",
    "            SE.lambda.ridge[i] <- (y.outsample[i] - sum(coef(ridge)[2:(ncol(x)+1)]*x.outsample[i,]))^2\n",
    "            SE.lambda.lasso[i] <- (y.outsample[i] - sum(coef(lasso)[2:(ncol(x)+1)]*x.outsample[i,]))^2\n",
    "        }\n",
    "        MSE.lambda.ridge[j] <- sum(SE.lambda.ridge)/length(y.outsample)\n",
    "        MSE.lambda.lasso[j] <- sum(SE.lambda.lasso)/length(y.outsample)\n",
    "    }\n",
    "    lambda.ridge <- lambda.grid[which.min(MSE.lambda.ridge)]\n",
    "    lambda.lasso <- lambda.grid[which.min(MSE.lambda.lasso)]\n",
    "\n",
    "    lasso <- glmnet(scale(x.train), scale(y.train), alpha=1, lambda=lambda.lasso, intercept=FALSE)\n",
    "    var.lasso <- sum(coef(lasso)[(2:(ncol(x)+1))] != 0)\n",
    "    ridge <- glmnet(scale(x.train), scale(y.train), alpha=0, lambda=lambda.ridge, intercept=FALSE)\n",
    "    var.ridge <- sum(coef(ridge)[(2:(ncol(x)+1))] != 0)\n",
    "    ols.oracle <- solve(t(scale(x.train.oracle))%*%scale(x.train.oracle))%*%(t(scale(x.train.oracle))\n",
    "                                                                             %*%scale(y.train))\n",
    "    \n",
    "    MSE.ridge.error <- (y.test - sum(coef(ridge)[2:(ncol(x)+1)]*x.test))^2\n",
    "    MSE.lasso.error <- (y.test - sum(coef(lasso)[2:(ncol(x)+1)]*x.test))^2\n",
    "    MSE.ols.oracle.error <- (y.test - sum(ols.oracle*x.test.oracle))^2\n",
    "    \n",
    "    if(nrow(x.train)<=ncol(x.train)){\n",
    "        MSE.ols.error <- NaN\n",
    "        var.ols <- NaN\n",
    "    }else{\n",
    "        ols <- solve(t(scale(x.train))%*%scale(x.train))%*%(t(scale(x.train))%*%scale(y.train))\n",
    "        var.ols <- sum(ols != 0)\n",
    "        MSE.ols.error <- (y.test - sum(ols*x.test))^2  \n",
    "    }\n",
    "\n",
    "    list(MSE.lambda.ridge=MSE.lambda.ridge, MSE.lambda.lasso=MSE.lambda.lasso,  \n",
    "    MSE.ols.error=MSE.ols.error, MSE.ridge.error=MSE.ridge.error,\n",
    "    MSE.lasso.error= MSE.lasso.error, MSE.ols.oracle.error=MSE.ols.oracle.error,\n",
    "    var.ols=var.ols, var.ridge=var.ridge, var.lasso=var.lasso)\n",
    "}"
   ]
  },
  {
   "cell_type": "code",
   "execution_count": 39,
   "metadata": {},
   "outputs": [],
   "source": [
    "simulate <- function(Gamma=1, rho=0, alpha=0, obs=100, vars=10, spar=T, lambda.grid=lambda.grid){\n",
    "    \n",
    "    # This function simulates and estimates data for Gamma trials and saves the average MSE and \n",
    "    # number of selected variables across all trials\n",
    "    \n",
    "    MSE.ols.gamma <- c()\n",
    "    MSE.ridge.gamma <- c()\n",
    "    MSE.lasso.gamma <- c()\n",
    "    MSE.ols.oracle.gamma <- c()\n",
    "    var.ols.gamma <- c()\n",
    "    var.ridge.gamma <- c()\n",
    "    var.lasso.gamma <- c()\n",
    "    \n",
    "    for (gamma in (1:Gamma)){\n",
    "        model <- DGP(rho=rho, alpha=alpha, obs=obs, vars=vars, spar=spar)\n",
    "        result <- find.MSE(x=model$x, y=model$y, coef=model$coef, lambda.grid=lambda.grid)\n",
    "        MSE.ols.oracle.gamma[gamma] <- result$MSE.ols.oracle.error\n",
    "        MSE.ols.gamma[gamma] <- result$MSE.ols.error\n",
    "        MSE.ridge.gamma[gamma] <- result$MSE.ridge.error\n",
    "        MSE.lasso.gamma[gamma] <- result$MSE.lasso.error\n",
    "        var.ols.gamma[gamma] <- result$var.ols\n",
    "        var.ridge.gamma[gamma] <- result$var.ridge\n",
    "        var.lasso.gamma[gamma] <- result$var.lasso\n",
    "    }\n",
    "    \n",
    "    MSE.ols.oracle <- sum(MSE.ols.oracle.gamma)/Gamma\n",
    "    MSE.ols <- sum(MSE.ols.gamma)/Gamma\n",
    "    MSE.ridge <- sum(MSE.ridge.gamma)/Gamma\n",
    "    MSE.lasso <- sum(MSE.lasso.gamma)/Gamma\n",
    "    \n",
    "    list(MSE.ols.gamma=MSE.ols.gamma, MSE.ridge.gamma=MSE.ridge.gamma, MSE.lasso.gamma=MSE.lasso.gamma,\n",
    "        MSE.ols.oracle.gamma=MSE.ols.oracle.gamma, MSE.ols.oracle=MSE.ols.oracle,\n",
    "        MSE.ols=MSE.ols, MSE.ridge=MSE.ridge, MSE.lasso=MSE.lasso,\n",
    "        var.ols=sum(var.ols.gamma)/Gamma, var.ridge=sum(var.ridge.gamma)/Gamma, \n",
    "        var.lasso=sum(var.lasso.gamma)/Gamma)\n",
    "}"
   ]
  },
  {
   "cell_type": "markdown",
   "metadata": {},
   "source": [
    "**3.2 Demonstration of one trial** <a class=\"anchor\" id=\"section_3_2\"></a>\n",
    "\n",
    "To demonstrate how the algorighm works I generate sparse data for one trial with no cross-sectional and no serial correlation and with 100 potential predictors. Afterwards, I apply the shrinkage methods and present the metric.\n",
    "First, I generate the data with the function DGP:"
   ]
  },
  {
   "cell_type": "code",
   "execution_count": 65,
   "metadata": {},
   "outputs": [],
   "source": [
    "set.seed(1)\n",
    "model <- DGP(rho=0, alpha=0, obs=100, vars=100, spar=T)"
   ]
  },
  {
   "cell_type": "markdown",
   "metadata": {},
   "source": [
    "Here is how the times series for the output variable look on the graph:"
   ]
  },
  {
   "cell_type": "code",
   "execution_count": 75,
   "metadata": {},
   "outputs": [
    {
     "data": {
      "image/png": "[encoded data removed]",
      "text/plain": [
       "Plot with title “Simulated time series of the output variable”"
      ]
     },
     "metadata": {
      "image/png": {
       "height": 420,
       "width": 420
      },
      "text/plain": {
       "height": 420,
       "width": 420
      }
     },
     "output_type": "display_data"
    }
   ],
   "source": [
    "T = seq(1, 100, length.out = 100)\n",
    "plot(T,model$y,type=\"l\",ylab = 'y', main = 'Simulated time series of the output variable')"
   ]
  },
  {
   "cell_type": "markdown",
   "metadata": {},
   "source": [
    "I check the simulated series on stationary with the Augmented Dickey–Fuller (ADF) test:"
   ]
  },
  {
   "cell_type": "code",
   "execution_count": 76,
   "metadata": {},
   "outputs": [
    {
     "name": "stderr",
     "output_type": "stream",
     "text": [
      "Warning message in adf.test(model$y):\n",
      "“p-value smaller than printed p-value”\n"
     ]
    },
    {
     "data": {
      "text/plain": [
       "\n",
       "\tAugmented Dickey-Fuller Test\n",
       "\n",
       "data:  model$y\n",
       "Dickey-Fuller = -4.7436, Lag order = 4, p-value = 0.01\n",
       "alternative hypothesis: stationary\n"
      ]
     },
     "metadata": {},
     "output_type": "display_data"
    }
   ],
   "source": [
    "adf.test(model$y)"
   ]
  },
  {
   "cell_type": "markdown",
   "metadata": {},
   "source": [
    "We can see that the series are indeed stationary. The same results holds for input variables. \n",
    "\n",
    "Then I run the estimation function for the tuning parameter grid:"
   ]
  },
  {
   "cell_type": "code",
   "execution_count": 45,
   "metadata": {},
   "outputs": [],
   "source": [
    "lambda.grid <- seq(0.001, 0.3, length.out = 100)\n",
    "result <- find.MSE(model$x, model$y, model$coef, lambda.grid=lambda.grid)"
   ]
  },
  {
   "cell_type": "markdown",
   "metadata": {},
   "source": [
    "Here are the MSEs of ridge and lasso regressions for the each value of tuning parameter on grid:"
   ]
  },
  {
   "cell_type": "code",
   "execution_count": 74,
   "metadata": {},
   "outputs": [
    {
     "data": {
      "image/png": "[encoded data removed]",
      "text/plain": [
       "plot without title"
      ]
     },
     "metadata": {
      "image/png": {
       "height": 420,
       "width": 420
      },
      "text/plain": {
       "height": 420,
       "width": 420
      }
     },
     "output_type": "display_data"
    }
   ],
   "source": [
    "df = data.frame(lambda.grid, ridge=result$MSE.lambda.ridge, lasso=result$MSE.lambda.lasso)\n",
    "dfplot <- df %>% gather(key, value, -lambda.grid)\n",
    "plot <- ggplot(dfplot, mapping = aes(x = lambda.grid, y = value, color = key) ) + geom_line()\n",
    "plot + ggtitle(\"MSE of ridge and lasso regressions for the different values of tuning parameter\") + \n",
    "xlab(\"grid of tuning parameter\") + ylab(\"MSE\")"
   ]
  },
  {
   "cell_type": "code",
   "execution_count": 77,
   "metadata": {},
   "outputs": [
    {
     "name": "stdout",
     "output_type": "stream",
     "text": [
      "Optimal tuning parameter for ridge regression is 0.001 \n",
      "Optimal tuning parameter for lasso regression is 0.004 \n"
     ]
    }
   ],
   "source": [
    "cat(\"Optimal tuning parameter for ridge regression is\",\n",
    "    round(lambda.grid[which.min(result$MSE.lambda.ridge)],3),\"\\n\")\n",
    "cat(\"Optimal tuning parameter for lasso regression is\",\n",
    "    round(lambda.grid[which.min(result$MSE.lambda.lasso)],3),\"\\n\")"
   ]
  },
  {
   "cell_type": "markdown",
   "metadata": {},
   "source": [
    "The MSEs of the forecasts with the optimal values of tuning parameter for each method relative to the OLS oracle:"
   ]
  },
  {
   "cell_type": "code",
   "execution_count": 78,
   "metadata": {},
   "outputs": [
    {
     "name": "stdout",
     "output_type": "stream",
     "text": [
      "The MSE of ols regression is NaN \n",
      "The MSE of ridge regression is 1.51 \n",
      "The MSE of lasso regression is 1.32 \n"
     ]
    }
   ],
   "source": [
    "cat(\"The MSE of ols regression is\",round(result$MSE.ols.error/result$MSE.ols.oracle.error, 3),\"\\n\")\n",
    "cat(\"The MSE of ridge regression is\",round(result$MSE.ridge.error/result$MSE.ols.oracle.error, 3),\"\\n\")\n",
    "cat(\"The MSE of lasso regression is\",round(result$MSE.lasso.error/result$MSE.ols.oracle.error, 3),\"\\n\")"
   ]
  },
  {
   "cell_type": "markdown",
   "metadata": {},
   "source": [
    "We see that the value for the OLS regression is, obviously, unavailable because the number of regressors is equal to the number of observations in this specification. We also see that in this particular trial lasso outperforms ridge. That makes sense since the model is sparse.\n",
    "\n",
    "OLS and ridge include all ten variales to the model:"
   ]
  },
  {
   "cell_type": "code",
   "execution_count": 79,
   "metadata": {},
   "outputs": [
    {
     "name": "stdout",
     "output_type": "stream",
     "text": [
      "The number of variables selected by ols regression NaN \n",
      "The number of variables selected by ridge regression 100 \n",
      "The number of variables selected by lasso regression 85 \n"
     ]
    }
   ],
   "source": [
    "cat(\"The number of variables selected by ols regression\",result$var.ols,\"\\n\")\n",
    "cat(\"The number of variables selected by ridge regression\",result$var.ridge,\"\\n\")\n",
    "cat(\"The number of variables selected by lasso regression\",result$var.lasso,\"\\n\")"
   ]
  },
  {
   "cell_type": "markdown",
   "metadata": {},
   "source": [
    "The lasso performs the variable selection: it chooses 85 predictors. However, the true number of predictors is 5 so then more advanced technics such as adaptive lasso are necessary to improve the selection process."
   ]
  },
  {
   "cell_type": "markdown",
   "metadata": {},
   "source": [
    "**3.3 Sparsity and number of predictors effects** <a class=\"anchor\" id=\"section_3_3\"></a>\n",
    "\n",
    "To demonstrate how sparsity and number of predictors define the performance of ols, ridge and lasso regressions I generate and estimate the sparse and abundant models without cross-sectional and serial correlation for 10, 50 and 100 predictors 1000 times: "
   ]
  },
  {
   "cell_type": "code",
   "execution_count": 3,
   "metadata": {},
   "outputs": [],
   "source": [
    "set.seed(1)\n",
    "spar.10 <- simulate(Gamma=1000, rho=0, alpha=0, obs=100, vars=10, spar=T, lambda.grid=lambda.grid)\n",
    "spar.50 <- simulate(Gamma=1000, rho=0, alpha=0, obs=100, vars=50, spar=T, lambda.grid=lambda.grid)\n",
    "spar.100 <- simulate(Gamma=1000, rho=0, alpha=0, obs=100, vars=100, spar=T, lambda.grid=lambda.grid)\n",
    "abun.10 <- simulate(Gamma=1000, rho=0, alpha=0, obs=100, vars=10, spar=F, lambda.grid=lambda.grid)\n",
    "abun.50 <- simulate(Gamma=1000, rho=0, alpha=0, obs=100, vars=50, spar=F, lambda.grid=lambda.grid)\n",
    "abun.100 <- simulate(Gamma=1000, rho=0, alpha=0, obs=100, vars=100, spar=F, lambda.grid=lambda.grid)"
   ]
  },
  {
   "cell_type": "markdown",
   "metadata": {},
   "source": [
    "To obtain the table, I write the results to latex:"
   ]
  },
  {
   "cell_type": "code",
   "execution_count": 1545,
   "metadata": {},
   "outputs": [],
   "source": [
    "#correct\n",
    "> simulation.sparsity <- matrix(c(spar.10$MSE.ols/spar.10$MSE.ols.oracle,spar.10$var.ols,\n",
    "                                  spar.50$MSE.ols/spar.50$MSE.ols.oracle,spar.50$var.ols,\n",
    "                                  spar.100$MSE.ols,spar.100$var.ols,\n",
    "                                  spar.10$MSE.ridge/spar.10$MSE.ols.oracle,spar.10$var.ridge,\n",
    "                                  spar.50$MSE.ridge/spar.50$MSE.ols.oracle,spar.50$var.ridge, \n",
    "                                  spar.100$MSE.ridge/spar.100$MSE.ols.oracle,spar.100$var.ridge,\n",
    "                                  spar.10$MSE.lasso/spar.10$MSE.ols.oracle,spar.10$var.lasso,\n",
    "                                  spar.50$MSE.lasso/spar.50$MSE.ols.oracle,spar.50$var.lasso,\n",
    "                                  spar.100$MSE.lasso/spar.100$MSE.ols.oracle,spar.100$var.lasso,\n",
    "                                  abun.10$MSE.ols/spar.10$MSE.ols.oracle,abun.10$var.ols,\n",
    "                                  abun.50$MSE.ols/spar.50$MSE.ols.oracle,abun.50$var.ols,\n",
    "                                  abun.100$MSE.ols,abun.100$var.ols,\n",
    "                                  abun.10$MSE.ridge/spar.10$MSE.ols.oracle,abun.10$var.ridge,\n",
    "                                  abun.50$MSE.ridge/spar.50$MSE.ols.oracle,abun.50$var.ridge,\n",
    "                                  abun.100$MSE.ridge/spar.100$MSE.ols.oracle,abun.100$var.ridge,\n",
    "                                  abun.10$MSE.lasso/spar.10$MSE.ols.oracle,abun.10$var.lasso,\n",
    "                                  abun.50$MSE.lasso/spar.50$MSE.ols.oracle,abun.50$var.lasso,\n",
    "                                  abun.100$MSE.lasso/spar.100$MSE.ols.oracle,abun.100$var.lasso), \n",
    "                                  nrow = 6, dimnames = list(c(\"MSE10\",\"var10\",\"MSE50\",\"var50\",\"MSE100\",\"var100\"),\n",
    "                                  c(\"sparols\",\"sparridge\",\"sparlasso\",\"abunols\",\"abunridge\",'abunlasso')))\n",
    "print(xtable(simulation.sparsity, digits=c(0,3,3,3,3,3,3), type = \"latex\"), \n",
    "      file = \"tex.files/simulation.sparsity.tex\")"
   ]
  },
  {
   "cell_type": "markdown",
   "metadata": {},
   "source": [
    "![Alt](images/simulation.sparsity.corrected.png)"
   ]
  },
  {
   "cell_type": "markdown",
   "metadata": {},
   "source": [
    "We can see that for the specification with 10 predictors OLS, ridge and lasso almost don't differ in their performance in both sparse and abundant models. That confirms the conclusion that when the data is low-dimensional and, therefore, potential multicolinearity in the data is absent, then ridge and lasso, in general, do not show significantly better performance than OLS. Smeekes and Wijler (2018) additionally demonstrated that adaptive lasso and adaptive elastic net perform better than OLS in this setting. \n",
    "\n",
    "When we sequentially increase the number of predictors, the MSE increases too for both sparse and abundant models. This is so-called \"curse of dimensinality\": variance grows proportionally to the number of variables included in the model. However, the MSE increases significantly more for the abundant model. It is explained by the fact potential multicolinearity between the larger part of regressors that is associated with the response and the smaller part of the regressors which is not associated with the response complicates the identification of the effect of each predictor. Overall, the forecast for the abundant model would be less precise.\n",
    "\n",
    "Importantly, both specification with 50 and 100 predictors illustrate that, indeed, lasso outperforms ridge when the model is sparse and ridge outperforms lasso when the model is abundant. That happens because the lasso shrinks some of the coefficients exactly to zero and in the sparse model the large part of true coefficients are equal to zero. On the other hand, ridge shrinks the coefficients toward zero but never sets exactly to zero; and the large part of true coefficients in the abundant model is not zero.  \n",
    "\n",
    "We also see that lasso performs the variable selection. Not surprisingly, it selects less variables in the sparse model. However, this selection is far from being perfect: in sparse model the number of true predictors is 5 for every specification and in the abundant model I make it 6, 30 and 60 respectively. However, Smeekes and Wijler (2018) found a solution: they report that adaptive lasso and adaptive elastic net perform better variable selection. They also show that the selection is even more precise when BIC is used instead of CV procedure."
   ]
  },
  {
   "cell_type": "markdown",
   "metadata": {},
   "source": [
    "**3.4 Cross-sectional and serial correlation effects** <a class=\"anchor\" id=\"section_3_4\"></a>\n",
    "\n",
    "To analyze the cross-sectional and serial correlation effects I choose the specification with 50 potential predictors and simulate the trials for both sparse and abundant models varying th values for $p$ and $\\alpha$:"
   ]
  },
  {
   "cell_type": "code",
   "execution_count": 1519,
   "metadata": {},
   "outputs": [],
   "source": [
    "spar.50.cross <- simulate(Gamma=1000, rho=0.6, alpha=0, obs=100, vars=50, spar=T, lambda.grid=lambda.grid)\n",
    "abun.50.cross <- simulate(Gamma=1000, rho=0.6, alpha=0, obs=100, vars=50, spar=F, lambda.grid=lambda.grid)\n",
    "spar.50.serial <- simulate(Gamma=1000, rho=0.6, alpha=0.6, obs=100, vars=50, spar=T, lambda.grid=lambda.grid)\n",
    "abun.50.serial <- simulate(Gamma=1000, rho=0.6, alpha=0.6, obs=100, vars=50, spar=F, lambda.grid=lambda.grid)"
   ]
  },
  {
   "cell_type": "code",
   "execution_count": 1551,
   "metadata": {},
   "outputs": [],
   "source": [
    "simulation.correlation <- matrix(c(spar.50$MSE.ols/spar.50$MSE.ols.oracle,spar.50$var.ols, \n",
    "                        spar.50.cross$MSE.ols/spar.50.cross$MSE.ols.oracle,spar.50.cross$var.ols,\n",
    "                        spar.50.serial$MSE.ols/spar.50.serial$MSE.ols.oracle,spar.50.serial$var.ols,\n",
    "                        spar.50$MSE.ridge/spar.50$MSE.ols.oracle,spar.50$var.ridge,\n",
    "                        spar.50.cross$MSE.ridge/spar.50.cross$MSE.ols.oracle,spar.50.cross$var.ridge,\n",
    "                        spar.50.serial$MSE.ridge/spar.50.serial$MSE.ols.oracle,spar.50.serial$var.ridge,\n",
    "                        spar.50$MSE.lasso/spar.50$MSE.ols.oracle,spar.50$var.lasso, \n",
    "                        spar.50.cross$MSE.lasso/spar.50.cross$MSE.ols.oracle,spar.50.cross$var.lasso,\n",
    "                        spar.50.serial$MSE.lasso/spar.50.serial$MSE.ols.oracle,spar.50.serial$var.lasso,\n",
    "                        abun.50$MSE.ols/spar.50$MSE.ols.oracle,abun.50$var.ols, \n",
    "                        abun.50.cross$MSE.ols/spar.50.cross$MSE.ols.oracle, abun.50.cross$var.ols,\n",
    "                        abun.50.serial$MSE.ols/spar.50.serial$MSE.ols.oracle,abun.50.serial$var.ols,\n",
    "                        abun.50$MSE.ridge/spar.50$MSE.ols.oracle,abun.50$var.ridge,\n",
    "                        abun.50.cross$MSE.ridge/spar.50.cross$MSE.ols.oracle,abun.50.cross$var.ridge,\n",
    "                        abun.50.serial$MSE.ridge/spar.50.serial$MSE.ols.oracle,abun.50.serial$var.ridge,\n",
    "                        abun.50$MSE.lasso/spar.50$MSE.ols.oracle,abun.50$var.lasso, \n",
    "                        abun.50.cross$MSE.lasso/spar.50.cross$MSE.ols.oracle,abun.50.cross$var.lasso,\n",
    "                        abun.50.serial$MSE.lasso/spar.50.serial$MSE.ols.oracle,abun.50.serial$var.lasso), \n",
    "       nrow = 6, dimnames = list(c(\"MSEno\",\"varno\",\"MSEcross\",\"varcross\",\"MSEserial\",\"varserial\"), \n",
    "                                 c(\"sparols\",\"sparridge\",\"sparlasso\",\"abunols\",\"abunridge\",'abunlasso')))\n",
    "print(xtable(simulation.correlation, digits=c(0,3,3,3,3,3,3), type = \"latex\"), file = \"simulation.correlation.tex\")"
   ]
  },
  {
   "cell_type": "markdown",
   "metadata": {},
   "source": [
    "![Alt](images/simulation.correlation.corr.png)"
   ]
  },
  {
   "cell_type": "markdown",
   "metadata": {},
   "source": [
    "Cross-sectional correlation does not significantly changes the picture for the sparse model: lasso is still sligthly ourperforms ridge; even though the MSE decreases more for ridge regression than for lasso. On the other hand, the MSE grows quite a lot in the abundant model underlining the fact that multicolinearity in the data is particularly dangerous when there are many true predictors of the response. Since the majority of relevant variables and few irrelevant variables might be correlated, it is more challenging to recognize the effect of each variable. Ridge is still a favorable method in this case. \n",
    "\n",
    "We observe that the introduction of serial correlation has little effect on the relative forecasting or selection performance of ridge and lasso: the trends described above also take place here. However, the variance of sparse and abundant models with autocorrelated errors tends to be lower which is a well-known fact in econometrics. If we ignore the serial correlation and estimate the variance the usual way, the variance estimator underestimates the true variance and the bias can be substantial. That justifies adding a lag/lags of a reponse variable to the model in the empirical application part."
   ]
  },
  {
   "cell_type": "markdown",
   "metadata": {},
   "source": [
    "## 4. Empirical application <a class=\"anchor\" id=\"chapter4\"></a>\n",
    "\n",
    "To demonstrate the performance of ridge and lasso in macroeconomic forecasting I use [FRED Monthly Database for Macroeconomic Research](https://research.stlouisfed.org/econ/mccracken/fred-databases/) as the authors of the original paper Smeekes and Wijler (2018) do. Clearly, there exist a large number of publicly available macroeconomic databases (a comprehensive list of macroeconomic databases can be found on the [webpage](https://www.eui.eu/Research/Library/ResearchGuides/Economics/Statistics/MacroDataSet) of The European University Institute). A researcher can choose the one for her needs and apply the corresponding forecasting methods. FRED database presents 135 variables on a monthly basis beginning from 1959. The variables are organized in eight groups:  Output and income; Labor market; Housing; Consumption, orders, and inventories; Money and credit; Interest and exchange rates; Prices; Stock market. "
   ]
  },
  {
   "cell_type": "markdown",
   "metadata": {},
   "source": [
    "**4.1 Data preparation** <a class=\"anchor\" id=\"section_4_1\"></a>\n",
    "\n",
    "One of the advantages of using the FRED dataset is that it contains the information on the necessary transformation of the series to correct for stationarity. The tcode row for each series in the dataset denotes the following transformation of $x$: (1) not transformation; (2) $\\Delta x_t$; (3) $\\Delta^2 x_t$; (4) $log(x_t)$; (5) $\\Delta log(x_t)$; (6) $\\Delta^2 log(x_t)$; (7) $\\Delta (x_t/x_{t-1} - 1)$. To prepare the data for the estimation I remove the missing values and apply the transformation to the series:"
   ]
  },
  {
   "cell_type": "code",
   "execution_count": 15,
   "metadata": {},
   "outputs": [
    {
     "name": "stderr",
     "output_type": "stream",
     "text": [
      "Warning message in data.clean[, i]/c(0, data.clean[-nrow(data), i]):\n",
      "“longer object length is not a multiple of shorter object length”\n"
     ]
    }
   ],
   "source": [
    "#load the data and remove missing values\n",
    "data <- read.csv(\"data.csv\")\n",
    "dates <- as.matrix(data[3:(nrow(data)-1),1]) #2 less for later differencing\n",
    "data.raw <- data[1:(nrow(data)-1),-1]\n",
    "missing <- apply(data.raw,2,function(x){sum(is.na(x))})\n",
    "data.raw <- data.clean <- as.matrix(data.raw[,!missing>2])\n",
    "data.raw <- data.clean <- na.omit(data.raw)\n",
    "tcode <- data[1,-1][!missing>2]\n",
    "names<- colnames(data.raw)\n",
    "n <- nrow(data.clean)\n",
    "p <- ncol(data.clean)\n",
    "\n",
    "#correct for stationarity\n",
    "n2 <- nrow(data.clean)-2\n",
    "transformed <- vector()\n",
    "for(i in 1:length(tcode)){\n",
    "    if( tcode[i]==1){\n",
    "        tmp <- data.clean[,i]\n",
    "    }else if(tcode[i]==2){\n",
    "        tmp <- diff(data.clean[,i])\n",
    "    }else if(tcode[i]==3){\n",
    "        tmp <- diff(data.clean[,i],differences=2)\n",
    "    }else if(tcode[i]==4){\n",
    "        tmp <- log(data.clean[,i])\n",
    "    }else if(tcode[i]==5){\n",
    "        tmp <- diff(log(data.clean[,i]))\n",
    "    }else if(tcode[i]==6){\n",
    "        tmp <- diff(log(data.clean[,i]),differences=2)\n",
    "    }else if(tcode[i]==7){\n",
    "        tmp <- data.clean[,i]/c(0,data.clean[-nrow(data),i]) - 1\n",
    "    }\n",
    "    transformed <- cbind(transformed,tail(tmp,n2))\n",
    "}\n",
    "cleaned <- data.clean\n",
    "colnames(transformed) <- colnames(cleaned)"
   ]
  },
  {
   "cell_type": "markdown",
   "metadata": {},
   "source": [
    "**4.2 Application** <a class=\"anchor\" id=\"section_4_2\"></a>\n",
    "\n",
    "I choose three series from different groups as response variables to showcase the forecasting performance of ridge and lasso: \n",
    "- Total Industrial Production from the group Output and income\n",
    "- Civilian Employment from the group Labor market\n",
    "- Real Personal Consumption Expenditures from the group Consumption, orders, and inventories\n",
    "- Effective Federal Funds Rate from the group Interest and exchange rates\n",
    "\n",
    "These series are similar to those frequently used in the forecasting literature (e.g. Kristensen (2017), Ludvigson and Ng (2009), Stock and Watson (2002b))."
   ]
  },
  {
   "cell_type": "code",
   "execution_count": 16,
   "metadata": {},
   "outputs": [],
   "source": [
    "var.names <- c(\"INDPRO\", \"CE16OV\", \"DPCERA3M086SBEA\", \"FEDFUNDS\")\n",
    "names <- c(\"Total Industrial Production\", \n",
    "           \"Civilian Employment\",\n",
    "           \"Real personal consumption expenditures\",\n",
    "          \"Effective Federal Funds Rate\")"
   ]
  },
  {
   "cell_type": "markdown",
   "metadata": {},
   "source": [
    "I consider the following forecasting equation:\n",
    "\n",
    "$$y_{t+h} = \\alpha + x'_t \\beta_x + \\sum_{i=1}^p \\beta_i y_{t-i+1} + \\epsilon_{t+h}$$\n",
    "\n",
    "where $h$ is the forecasting horizon (I produce the forecast for the 6 months ahead); $x_t$ is the vector of all potential predictors; and $\\sum_{i=1}^p y_{t-i+1}$ are the lags of the response with the maximum length of 6."
   ]
  },
  {
   "cell_type": "code",
   "execution_count": 17,
   "metadata": {},
   "outputs": [],
   "source": [
    "h <- 6 #Forecast horizon\n",
    "p.max <- 6 #Maximum number of AR lags"
   ]
  },
  {
   "cell_type": "markdown",
   "metadata": {},
   "source": [
    "In the estimation I follow rolling window approach as in Smeekes and Wijler (2018). It means that an initial in-sample period covering 10 years of monthly observations ($window=120$) is used to estimate the models by which to obtain the first out-of-sample prediction. For each new prediction, we keep the length of the in-sample period fixed and move the estimation sample forward by one period. The number of optimal lags is determined by BIC. The optimal $\\lambda$ is determined by the CV and the test MSE. The parallel processing by clusters is used to shorten the time of running the code.\n",
    "\n",
    "I show the initial part of the code for the matter of demonstration and run the loop further in the section. The below algorithm is perfomed for each response variable of interest. The first step is to transform the whole dataset for a response variable such that it can have the matrix of independant variables for $[0:T]$ periods; the six lags of dependant variable for each of $[0:T]$ periods; and the vector of dependant variable for the periods $[h:T+h]$. Then we start the parallel forecast by applying the function **forecast** $f = T-window-h+1$ times:"
   ]
  },
  {
   "cell_type": "markdown",
   "metadata": {},
   "source": [
    "#Create clusters and fix RNG seed\n",
    "\n",
    "    cl <- makeCluster(detectCores()-1)\n",
    "    clusterSetRNGStream(cl,iseed=2345678)\n",
    "    iter <- 0\n",
    "                    \n",
    "#Loop forecasts over different dependent variables\n",
    "\n",
    "     for(b in 1:length(var.names)){\n",
    "        iter <- iter+1\n",
    "    \n",
    "        #Obtain variables used for estimation\n",
    "        name <- y.name <- var.names[b]\n",
    "        y.ind <- which(colnames(cleaned)==name)\n",
    "        code <- tcode[y.ind]\n",
    "        y.tr <- transformed[,y.ind]\n",
    "        y.lags <- embed(y.tr,6)\n",
    "        x <- tail(transformed[,-y.ind],nrow(y.lags))\n",
    "        y.raw <- cleaned[,y.ind]\n",
    "        y.h <- y.tr[(p.max+h):length(y.tr)]\n",
    "        x <- head(x,length(y.h))\n",
    "\n",
    "        #start parallel forecast\n",
    "        varlist <- ls()\n",
    "        clusterSetRNGStream(cl,iseed=123457)\n",
    "        clusterExport(cl=cl,c(varlist,\"mvrnorm\",\"glmnet\",\"cv.glmnet\"))\n",
    "        f <- length(y.h)-window-h+1\n",
    "        output <- pblapply(1:f,forecast,cl=cl)"
   ]
  },
  {
   "cell_type": "markdown",
   "metadata": {},
   "source": [
    "For each $i$ from $f$ the function **forecast** determines training set as $[i:(i-1+window)]$ observations of the main dataset and test set as an observation in $h$ periods $(i-1+window+h)$. Then it estimates the coefficients on the training set by ridge and lasso; finds the number of optimal lags and the number of selected variables by lasso using the function **GLMN.emp**. As the final step, it derives the MSE using test observation:"
   ]
  },
  {
   "cell_type": "code",
   "execution_count": 18,
   "metadata": {},
   "outputs": [],
   "source": [
    "forecast <- function(i){\n",
    "\n",
    "      #Define data sample\n",
    "      t <- window+h\n",
    "      x.train <- x[i:(i-1+window),]\n",
    "      y.l <- y.lags[i:(i-1+window),]\n",
    "      y.train <- y.h[i:(i-1+window)]\n",
    "      x.test <- x[i-1+t,]\n",
    "      y.test <- y.lags[i-1+t,]\n",
    "      y.f <- y.h[i-1+t]\n",
    "      n <- length(y.train)\n",
    "\n",
    "      #Define object to store results\n",
    "      pred <- vector()\n",
    "      MSE <- vector()\n",
    "      nvar <- vector()\n",
    "      lags <- vector()\n",
    "      coefs <- list()\n",
    "      names <- NULL\n",
    "      count <- 0\n",
    "\n",
    "      #shrinkage estimators\n",
    "      algos <- c(\"ridge\",\"las\")\n",
    "      ICs <- c(\"CV\")\n",
    "      for(j in 1:length(algos)){\n",
    "        for(i in 1:length(ICs)){\n",
    "          count <- count+1\n",
    "\n",
    "          #Define algorithm name and IC\n",
    "          name <- paste(algos[j],ICs[i],sep=\"\")\n",
    "          names <- c(names,name)\n",
    "\n",
    "          #Perform estimation\n",
    "          tmp <- GLMN.emp(y.train,x.train,y.l,type=algos[j],IC=ICs[i],IC.lag=\"BIC\")  \n",
    "          p <- tmp$lags\n",
    "          coef <- tmp$beta\n",
    "          yhat <- t(c(1,x.test,y.test[0:p]))%*%coef\n",
    "          pred[count] <- yhat\n",
    "          MSE[count] <- (y.f-yhat)^2\n",
    "          nvar[count] <- sum(as.logical(coef[-1]))\n",
    "          coefs[[count]] <- coef\n",
    "          lags[count] <- p\n",
    "          \n",
    "        }\n",
    "      }\n",
    "\n",
    "      #obtain output\n",
    "      results <- rbind(pred,MSE,nvar,lags)\n",
    "      colnames(results) <- names\n",
    "      list(results=results,coefs=coefs,actual=y.f)\n",
    "\n",
    "}"
   ]
  },
  {
   "cell_type": "markdown",
   "metadata": {},
   "source": [
    "The purpose of the function **GLMN.emp** is to create a loop for each possible number of lags of the response variable, estimate the coefficients by the function **GLMN** and obtain the value of BIC by the function **get.IC** for each lag. Then it chooses the optimal number of lags by the lowest BIC and saves the respective vector of coefficients:"
   ]
  },
  {
   "cell_type": "code",
   "execution_count": 19,
   "metadata": {},
   "outputs": [],
   "source": [
    "GLMN.emp <- function(y,x,y.lags,type,IC,IC.lag){\n",
    "    ps <- 0:ncol(y.lags)\n",
    "    ICS <- vector()\n",
    "    betas <- list()\n",
    "    for(i in 1:length(ps)){\n",
    "        p <- ps[i]\n",
    "        x.tmp <- cbind(x,y.lags[,0:p])\n",
    "        beta <- GLMN(y,x.tmp,type=type,IC=IC,p=p)\n",
    "        betas[[i]] <- beta\n",
    "        ICS[i] <- get.IC(y,x.tmp,beta,IC=IC.lag,addint=T)\n",
    "    }\n",
    "    beta <- matrix(betas[[which.min(ICS)]],ncol=1)\n",
    "    lags <- ps[which.min(ICS)]\n",
    "    list(beta=beta,lags=lags)\n",
    "}"
   ]
  },
  {
   "cell_type": "markdown",
   "metadata": {},
   "source": [
    "The function **GLMN** divides our training set to the training and test observations again with the threshold $c_T$ introduced in the simulation part. It estimates the coefficients on the training observations either by ridge or lasso for the grid of $\\lambda$ values; applies the coefficients to the test observations; finds the predicted values of the response variable; and chooses the optimal $\\lambda$ by the minimal test MSE. Then it saves the vector of coefficients corresponding to the optimal $\\lambda$ for each method:"
   ]
  },
  {
   "cell_type": "code",
   "execution_count": 20,
   "metadata": {},
   "outputs": [],
   "source": [
    "GLMN <- function(y,x,type=\"ridge\",IC=\"BIC\",p=0){\n",
    "    #normalize data\n",
    "    ys <- scale(y)\n",
    "    xs <- scale(x)\n",
    "    \n",
    "    if(type==\"las\"){\n",
    "      w <- rep(1,ncol(x))\n",
    "      if(p>0){\n",
    "        w[(length(w)-p+1):length(w)] <- 0\n",
    "      }\n",
    "        m <- ceiling((2/3)*nrow(x))\n",
    "        x.tr <- xs[1:m,]\n",
    "        y.tr <- ys[1:m]\n",
    "        x.te <- xs[(m+1):nrow(x),]\n",
    "        y.te <- ys[(m+1):nrow(x)]\n",
    "        glm <- glmnet(scale(x.tr),scale(y.tr),family=\"gaussian\",alpha=1-1e-6,penalty.factor = w)\n",
    "        coefs <- as.matrix(coef(glm))\n",
    "        lambdas <- as.numeric(glm$lambda)\n",
    "        y.pr <- cbind(rep(1,nrow(x.te)),x.te)%*%coefs\n",
    "        y.te <- matrix(rep(y.te,ncol(coefs)),length(y.te),ncol(coefs))\n",
    "        SFE <- (y.te-y.pr)^2\n",
    "        MSE <- colMeans(SFE)\n",
    "        lambda <- lambdas[which.min(MSE)]\n",
    "        beta <- coef(glmnet(xs,ys,family=\"gaussian\",alpha=1-1e-6,penalty.factor = w,lambda = lambda))\n",
    "        \n",
    "    }else if(type==\"ridge\"){\n",
    "      w <- rep(1,ncol(x))\n",
    "      if(p>0){\n",
    "        w[(length(w)-p+1):length(w)] <- 0\n",
    "      }\n",
    "        m <- ceiling((2/3)*nrow(x))\n",
    "        x.tr <- xs[1:m,]\n",
    "        y.tr <- ys[1:m]\n",
    "        x.te <- xs[(m+1):nrow(x),]\n",
    "        y.te <- ys[(m+1):nrow(x)]\n",
    "        glm <- glmnet(scale(x.tr),scale(y.tr),family=\"gaussian\",alpha=0,penalty.factor = w)\n",
    "        coefs <- as.matrix(coef(glm))\n",
    "        lambdas <- as.numeric(glm$lambda)\n",
    "        y.pr <- cbind(rep(1,nrow(x.te)),x.te)%*%coefs\n",
    "        y.te <- matrix(rep(y.te,ncol(coefs)),length(y.te),ncol(coefs))\n",
    "        SFE <- (y.te-y.pr)^2\n",
    "        MSE <- colMeans(SFE)\n",
    "        lambda <- lambdas[which.min(MSE)]\n",
    "        beta <- coef(glmnet(xs,ys,family=\"gaussian\",alpha=0,penalty.factor = w,lambda = lambda))\n",
    "    }\n",
    "    beta\n",
    "}"
   ]
  },
  {
   "cell_type": "markdown",
   "metadata": {},
   "source": [
    "The function **get.IC** calculates the value of BIC either with or without intercept:"
   ]
  },
  {
   "cell_type": "code",
   "execution_count": 21,
   "metadata": {},
   "outputs": [],
   "source": [
    "get.IC <- function(y,x,beta,IC=\"BIC\",addint=T){\n",
    "   \n",
    "     #Calculate variance\n",
    "    if(addint==T){\n",
    "        var <- sum((y-cbind(rep(1,nrow(x)),x)%*% beta)^2)/length(y)\n",
    "    }else{\n",
    "        var <- sum((y-x%*% beta)^2)/length(y)\n",
    "    }\n",
    "    \n",
    "    #Get IC\n",
    "    value <- log(var) + sum(beta!=0)*log(length(y))/length(y)\n",
    "    value\n",
    "}"
   ]
  },
  {
   "cell_type": "markdown",
   "metadata": {},
   "source": [
    "Finally, after the description of each function we can run the main loop of the empirical part. The function **forecast** saved the MSE, the selected number of variables and the optimal number of lags for every $i$. Now these values are averaged accross all $f$:"
   ]
  },
  {
   "cell_type": "code",
   "execution_count": 22,
   "metadata": {},
   "outputs": [
    {
     "name": "stdout",
     "output_type": "stream",
     "text": [
      "[1] \"Total Industrial Production\"\n",
      "       ridgeCV     lasCV\n",
      "MSE    1.00000 0.5305135\n",
      "nvar 123.64564 3.2504638\n",
      "lags   2.64564 1.7050093\n",
      "[1] \"Civilian Employment\"\n",
      "        ridgeCV    lasCV\n",
      "MSE    1.000000 1.736772\n",
      "nvar 124.046382 6.146568\n",
      "lags   3.046382 1.920223\n",
      "[1] \"Real personal consumption expenditures\"\n",
      "       ridgeCV     lasCV\n",
      "MSE    1.00000 0.8866497\n",
      "nvar 124.16141 5.0129870\n",
      "lags   3.16141 2.8998145\n",
      "[1] \"Effective Federal Funds Rate\"\n",
      "        ridgeCV    lasCV\n",
      "MSE    1.000000 1.011715\n",
      "nvar 122.779221 5.009276\n",
      "lags   1.779221 1.762523\n"
     ]
    }
   ],
   "source": [
    "#Create clusters and fix RNG seed\n",
    "cl <- makeCluster(detectCores()-1)\n",
    "clusterSetRNGStream(cl,iseed=2345678)\n",
    "iter <- 0\n",
    "                    \n",
    "#Loop forecasts over different dependent variables\n",
    "for(b in 1:length(var.names)){\n",
    "    iter <- iter+1\n",
    "    \n",
    "    #Obtain variables used for estimation\n",
    "    name <- y.name <- var.names[b]\n",
    "    y.ind <- which(colnames(cleaned)==name)\n",
    "    code <- tcode[y.ind]\n",
    "    y.tr <- transformed[,y.ind]\n",
    "    y.lags <- embed(y.tr,6)\n",
    "    x <- tail(transformed[,-y.ind],nrow(y.lags))\n",
    "    y.raw <- cleaned[,y.ind]\n",
    "    y.h <- y.tr[(p.max+h):length(y.tr)]\n",
    "    x <- head(x,length(y.h))\n",
    "    \n",
    "    #start parallel forecast\n",
    "    varlist <- ls()\n",
    "    clusterSetRNGStream(cl,iseed=123457)\n",
    "    clusterExport(cl=cl,c(varlist,\"mvrnorm\",\"glmnet\",\"cv.glmnet\"))\n",
    "    f <- length(y.h)-window-h+1\n",
    "    output <- pblapply(1:f,forecast,cl=cl)\n",
    "    results <- lapply(output,function(x){x[[1]]})\n",
    "    \n",
    "    #collect output\n",
    "    predictions <- t(sapply(results,function(x){x[1,]}))\n",
    "    sfes <- t(sapply(results,function(x){x[2,]}))\n",
    "    nvars <- t(sapply(results,function(x){x[3,]}))\n",
    "    lags <- t(sapply(results,function(x){x[4,]}))\n",
    "    actuals <- sapply(output,function(x){x$actual})\n",
    "    coefficients <- lapply(output,function(x){x$coefs})\n",
    "    result <- Reduce(\"+\",results)[-1,]/f\n",
    "    MSE <- result[1,]/result[1,1]\n",
    "    result <- rbind(MSE,result)\n",
    "    print(names[b])\n",
    "    print(result[c(1,3:4),])\n",
    "}\n",
    "                    \n",
    "stopCluster(cl)"
   ]
  },
  {
   "cell_type": "markdown",
   "metadata": {},
   "source": [
    "As the result, we obtain the MSE, the selected number of variables and the optimal number of lags by ridge and lasso for each variable. The lasso MSE is given relative to the ridge MSE. Unfortunately, I cannot compare the estimation results with OLS because the number of observations for each window is less than the number of potential predictors.\n",
    "\n",
    "We look at three different cases here: when ridge outperforms lasso; when lasso outperforms ridge; and when the MSE for two methods are relatively equal. It confirms the fact that the methods from shrinkage group might have different forecasting performance even within one dataset. Which method outperforms depends on the DGP of the response variables. Following the results in my simulation part, the sparsity and multi-colinearity in the data are among the factors that determine the precision of each method. Therefore, the recommendation for the researchers using shrinkage methods to forecast the macroeconomic environment would be not to focus on one of the them; but to compare the performance of few in different settings. The combination of methods will help to avoid unnecessary bias in the forecast and to obtain more precise results."
   ]
  },
  {
   "cell_type": "markdown",
   "metadata": {},
   "source": [
    "## 5. Conclusion <a class=\"anchor\" id=\"chapter5\"></a>\n",
    "\n",
    "I performed an analysis of performance of shrinkage methods, in particular, of ridge and lasso regressions on macroecnomic forecasting. First, I explained why shrinkage methods is an appropriate tool for predicting macroeconomic outcomes: they reduce the variance in high-dimensional data setting by regularizing the coefficients estimates on the cost of estimates bias. Because of the differences in regularizing norms, which ridge and lasso employ, they also have different theoretical properties. Specifically, lasso shrinks some of the coefficients exactly to zero and ridge shrinks the coeficients toward zero but never sets them exactly to zero. This fact justifies that ridge and lasso outperform each other in settings with different DGP. \n",
    "\n",
    "I show in the realistic simulated macroeconomic setting that lasso outperforms ridge when only few of all predictors included to the model are associated with a response. On the other hand, ridge is more favorable when there is a large number of true predictors effecting the response. It is relevant for the increasing number of variables included to the model. I also demostrate that the forecast by ridge and lasso is less precise in case of the abundant model because of possible multicolinearity between relevant and irrelevant variables. Additionally, I confirm this fact by manually introducing multicolinearity to the data. Finally, I illustrate that including serirally correlated errors to the model does not effect the comparative perofrmance of ridge ad lasso, but, overall, it underestimates the variance in all specifications. \n",
    "\n",
    "In section 4 I apply ridge and lasso regressions in the empirical setting where we do not know the true DGP. I take a popular among macroeconomists dataset and implement few statistical technics to derive the ridge and lasso coefficients in the model with AR lags and to calculate the MSE of the forecast. I find that ridge and lasso outperform each other for different macroeconomic variables. Therefore, I conclude that an optimal strategy for macroeconomists would be not to choose one shrinkage method to perform the forecast; but to combine few methods and compare their performance. The area for the future research would be to add the other shrinkage methods and assess their performance in various time series settings such as non-stationary series, cointagrated variables, and VAR models."
   ]
  },
  {
   "cell_type": "markdown",
   "metadata": {},
   "source": [
    "## 6. References <a class=\"anchor\" id=\"chapter6\"></a>\n",
    "\n",
    "- Bai, J. (2003). [Inferential theory for factor models of large dimensions](https://onlinelibrary.wiley.com/doi/abs/10.1111/1468-0262.00392). *Econometrica, 71*(1), 135-171.\n",
    "- Bai, J. and Ng, S. (2006). [Confidence intervals for diffusion index forecasts and inference for factor‐augmented regressions](https://onlinelibrary.wiley.com/doi/abs/10.1111/j.1468-0262.2006.00696.x).  *Econometrica, 74*(4), 1133-1150.\n",
    "- Bai, J. and Ng, S. (2001). [Determining the number of factors in approximate factor models](https://onlinelibrary.wiley.com/doi/abs/10.1111/1468-0262.00273). *Econometrica, 70*(1),  191-221.\n",
    "- Basu, S., and Michailidis, G. (2015). [Regularized estimation in sparse high-dimensional time series models](https://www.jstor.org/stable/43556652?seq=1). *The Annals of Statistics, 43*(4), 1535-1567. \n",
    "- Beard, E., Brown, J., West, R., Kaner, E., Meier, P., Michie, S. (2019). [Associations between socio-economic factors and alcohol consumption: a population survey of adults in England](https://journals.plos.org/plosone/article?id=10.1371/journal.pone.0209442). *PLoS One, 14*(2).\n",
    "- Bucca, M., and Urbina, D. R. (2019). [Lasso regularization for selection of log-linear models: an application to educational assortative mating](https://journals.sagepub.com/doi/10.1177/0049124119826154#articleCitationDownloadContainer).* Sociological Methods & Research*.\n",
    "- Bühlmann, P., and van de Geer, S. (2011). [Theory for the lasso](https://link.springer.com/chapter/10.1007/978-3-642-20192-9_6#citeas). In: *Statistics for High-Dimensional Data. Springer Series in Statistics*. Springer, Berlin, Heidelberg.\n",
    "- Carriero, A., Galvao, A., and Kapetanios, G. (2016). [A comprehensive evaluation of macroeconomic forecasting methods](https://www.sciencedirect.com/science/article/abs/pii/S0169207019300731). *International Journal of Forecasting, 35*(4), 1226-1239.\n",
    "- Conniffe, D., Stone, J., and O'Neill, F. (1976). [Application of ridge regression in agricultural economics](https://www.jstor.org/stable/pdf/25556415.pdf?seq=1). *Irish Journal of Agricultural Economics and Rural Sociology, 6*(1), 89-92.\n",
    "- Coulombe, P., Stevanovic, D., and Surprenant, S. (2019). [How is machine learning useful for macroeconomic forecasting?](https://economics.sas.upenn.edu/system/files/2019-03/GCLSS_MC_MacroFcst.pdf) *CIRANO Working Papers* 2019s-22, CIRANO.\n",
    "- Ginestet, C.E. [Regularization: ridge regression and lasso](http://math.bu.edu/people/cgineste/classes/ma575/p/w14_1.pdf).  Lecture 2.\n",
    "- Goebl, C. S., Boykurt, L., Tura, A., Pacini, G., Kautzkz-Willer, A., and Mittlboeck, M. (2015). [Application of penalized regression techniques in modelling insulin sensitivity by correlated metabolic parameters](https://journals.plos.org/plosone/article?id=10.1371/journal.pone.0141524). *PLoS ONE*.\n",
    "- Hall, A. (2018). [Machine learning approaches to macroeconomic forecasting](https://www.kansascityfed.org/~/media/files/publicat/econrev/econrevarchive/2018/4q18smalterhall.pdf). *Economic Review*, Federal Reserve Bank of Kansas City, issue Q IV, 63-81.\n",
    "- Hastie, T., Tibshirani, R., and Friedman, J. (2001). [The elements of statistical learning](https://web.stanford.edu/~hastie/ElemStatLearn/). *Springer New York Inc.*, New York, NY, USA.\n",
    "- Hoerl, A. and Kennard, R. (1970). [Ridge regression: biased estimation for nonorthogonal problems](https://www.tandfonline.com/doi/abs/10.1080/00401706.1970.10488634). *Technometrics, 12*, 55-67. \n",
    "- Huang, C. and Mintz, A. (1990). [Ridge regression analysis of the defence‐growth tradeoff in the United States](https://www.tandfonline.com/doi/abs/10.1080/10430719008404676). *Defence Economics, 2*, 29-37.\n",
    "- Hyndman, R.J., and Athanasopoulos, G. (2018) [Forecasting: principles and practice](OTexts.com/fpp2). *OTexts*, Melbourne, Australia.\n",
    "- Jain, R. (1985). [Ridge regression and its application to medical data](https://pubmed.ncbi.nlm.nih.gov/4042638/). *Computational Biomedical Ressearch, 18*(4), 363-368. \n",
    "- Jamal, N. and Rind, M. (2007). [Ridge regression: a tool to forecast wheat area and production](https://www.researchgate.net/publication/44286448_Ridge_Regression_A_tool_to_forecast_wheat_area_and_production). *Pakistan Journal of Statistics and Operation Research, 3*(2). \n",
    "- James, G., Witten, D., Hastie, T., and Tibshirani, R. (2014). [An introduction to statistical learning: with applications in R](https://dl.acm.org/doi/book/10.5555/2517747). *Springer New York Inc.*, New York, NY, USA.\n",
    "- Jean, N., Burke, M., Xie, M., Davis, W., Lobell, D., and Ermon, S. (2016). [Combining satellite imagery and machine learning to predict poverty](https://science.sciencemag.org/content/353/6301/790). *Science, 353*, 790-794. \n",
    "- Johnston, L. and Engelhardt, B. (2019). [Predicting crop yield and disease trends in central New Jersey farms](https://www.semanticscholar.org/paper/Predicting-Crop-Yield-and-Disease-Trends-in-Central-Johnston-Adviser/8cd0e88e5d3aa2f23e01ca09d7a0c376e91215c7). Working paper.\n",
    "- Kim, H. and Swanson, N. (2014). [Forecasting financial and macroeconomic variables using data reduction methods: New empirical evidence](https://www.sciencedirect.com/science/article/pii/S0304407613001978). SSRN Electronic Journal. 10.2139/ssrn.1856082. \n",
    "- Kock, A. and Callot, L. (2015). [Oracle inequalities for high dimensional vector autoregressions](https://www.sciencedirect.com/science/article/pii/S0304407615000378). *Journal of Econometrics, 186*(2), 325-344.\n",
    "- Kristensen, J.T. (2017). [Diffusion indexes with sparse loadings](https://www.tandfonline.com/doi/full/10.1080/07350015.2015.1084308). *Journal of Business & Economic Statistics, 35*, 434-451.\n",
    "- Ludvigson, S.C., and Ng, S. (2009). [A factor analysis of bond risk premia](http://citeseerx.ist.psu.edu/viewdoc/download?doi=10.1.1.416.108&rep=rep1&type=pdf). *National Bureau of Economic Research*, w15188.\n",
    "-  McCracken, M. W. and Ng, S. (2015). [FRED-MD: a monthly database for macroeconomic research](https://research.stlouisfed.org/wp/more/2015-012). *Working Papers 2015-12*, Federal Reserve Bank of St. Louis.\n",
    "- McKenzie, D. and Sansone, D. (2019). [Predicting entrepreneurial success is hard: Evidence from a business plan competition in Nigeria](https://www.sciencedirect.com/science/article/abs/pii/S0304387818305601?via%3Dihub). *Journal of Development Economics, 141*, 102369.\n",
    "- Medeiros, M. and Mendes, E. (2015). [L1-regularization of high-dimensional time-series models with non-Gaussian and heteroskedastic errors](https://www.sciencedirect.com/science/article/pii/S0304407615002638). *Journal of Econometrics, 191*(1), 255-271. \n",
    "- Mol, C., Giannone, D., and Reichlin, L. (2008). [Forecasting using a large number of predictors: is Bayesian shrinkage a valid alternative to principal components?](https://www.sciencedirect.com/science/article/pii/S0304407608001103). *Journal of Econometrics, 146*, 318-328. \n",
    "- Molina, M. and Garip, F. (2019). [Machine learning for sociology](https://www.annualreviews.org/doi/10.1146/annurev-soc-073117-041106). *Annual Review of Sociology, 45*, 27-45.\n",
    "- Mullainathan, S. and Spiess, J. (2017). [Machine learning: an applied econometric approach](https://www.aeaweb.org/articles?id=10.1257/jep.31.2.87). *Journal of Economic Perspectives, 31*(2), 87-106.\n",
    "- Ng, S. (2013). [Variable selection in predictive regressions](https://www.sciencedirect.com/science/article/pii/B9780444627315000142). *Handbook of Economic Forecasting*, in: G. Elliott, C. Granger,  A. Timmermann (ed.),Handbook of Economic Forecasting, 1(2), chapter 0, 752-789.\n",
    "- Ogutu, J., Schulz-Streeck, T., and Piepho, H. (2012). [Genomic selection using regularized linear regression models: ridge regression, lasso, elastic net and their extensions](https://www.semanticscholar.org/paper/Genomic-selection-using-regularized-linear-models%3A-Ogutu-Schulz-Streeck/9b6327dab2d0cb4b21489e0881ad4120a5b5149e). *BMC Proceedings, 6*, S10 - S10.\n",
    "- Pimentel, E., Queiroz, S., Carvalheiro, R., and Fries, L. (2007). [Use of ridge regression for the prediction of early growth performance in crossbred calves](https://www.scielo.br/scielo.php?script=sci_arttext&pid=S1415-47572007000400006). *Genetics and Molecular Biology, 30*(3).\n",
    "- Reiss, P. C. and Wolak, F.A. (2007). [Structural econometric modeling: rationales and examples from industrial organization](https://web.stanford.edu/group/fwolak/cgi-bin/sites/default/files/files/Structural%20Econometric%20Modeling_Rationales%20and%20Examples%20From%20Industrial%20Organization_Reiss%2C%20Wolak.pdf). *Handbook of Econometrics*, in: J.J. Heckman & E.E. Leamer (ed.),Handbook of Econometrics, 1(6), chapter 64. \n",
    "- Saleh, A., Arashi, M., and Kibria, B. (2019). [Theory of ridge regression estimation with applications](https://www.wiley.com/en-us/Theory+of+Ridge+Regression+Estimation+with+Applications-p-9781118644614). *John Wiley & Sons, Inc.*, Hoboken, NJ, USA.\n",
    "- Schneider, U. and Wagner, M. (2008). [Catching growth determinants with the adaptive LASSO](https://ideas.repec.org/p/ihs/ihsesp/232.html). *Economics Series 232*, Institute for Advanced Studies.\n",
    "- Singh, K., Singh, K.K., Kumar, S., Panwar, S., and Gurung, B. (2019). [Forecasting crop yield through weather indices through LASSO](https://www.researchgate.net/publication/332810158_Forecasting_crop_yield_through_weather_indices_through_LASSO). *Indian Journal of Agricultural Sciences, 89*, 540-544. \n",
    "- Smeekes, S., and Wijler, E. (2018). [Macroeconomic forecasting using penalized regression methods](https://www.sciencedirect.com/science/article/pii/S0169207018300074). International Journal of Forecasting, 34(3), 408-430.\n",
    "- Stock, J. H., and Watson, M. W. (2014). [Estimating turning points using large data sets](https://www.sciencedirect.com/science/article/abs/pii/S030440761300198X). *Journal of Econometrics, 178*(P2), 368-381.\n",
    "- Stock, J. H., and Watson, M. W. (2006). [Chapter 10. Forecasting with many predictors](https://www.sciencedirect.com/science/article/pii/S1574070605010104). *Handbook of Economic Forecasting, 1*, 515-554.\n",
    "- Stock, J. H., and Watson, M. W. (2002). [Forecasting using principal components from a large number of predictors](http://www.jstor.org/stable/3085839). *Journal of the American Statistical Association, 97*(460), 1167-1179. \n",
    "- Stock, J. H., and Watson, M. W. (1999). [Forecasting inflation](https://www.sciencedirect.com/science/article/abs/pii/S0304393299000276). *Journal of Monetary Economics, 44*(2), 293-335.\n",
    "- Theobald, C. (1974). [Generalizations of mean square error applied to ridge regression](https://www.jstor.org/stable/2984775?seq=1). *Journal of the Royal Statistical Society. Series B (Methodological), 36*(1), 103-106.\n",
    "- Tibshirani, R. (2012). [The Lasso problem and uniqueness](http://www.stat.cmu.edu/~ryantibs/papers/lassounique.pdf). *Electronic Journal of Statistics, 7*.\n",
    "- Tibshirani, R. (1996). [Regression shrinkage and selection via the lasso](https://www.jstor.org/stable/2346178?seq=1). *Journal of the Royal Statistical Society. Series B (Methodological), 58*(1), 267-288. \n",
    "- Tibshirani, R., and Taylor, J. (2011). [The solution path of the generalized lasso](https://projecteuclid.org/euclid.aos/1304514656). *Annals of Statistics, 39*(3), 1335-1371.\n",
    "- Vlaming, R. and Groenen, P. (2015). [The current and future use of ridge regression for prediction in quantitative genetics](https://www.ncbi.nlm.nih.gov/pmc/articles/PMC4529984/).\n",
    "- Wang, H., and Leng, C. (2007). [Unified LASSO estimation by least squares approximation](https://www.jstor.org/stable/27639944?seq=1). *Journal of the American Statistical Association, 102*(479), 1039-1048.\n",
    "- Wieringen, W. (2020a). [Lecture notes on lasso regression](http://www.few.vu.nl/~wvanwie/Courses/HighdimensionalDataAnalysis/WNvanWieringen_HDDA_Lecture56_LassoRegression_20182019.pdf). \n",
    "- Wieringen, W. (2020b). [Lecture notes on ridge regression](https://arxiv.org/pdf/1509.09169;Lecture).\n",
    "- Yunwen, R. and Xinsheng, Z. (2013). [Model selection for vector autoregressive processes via adaptive lasso](https://www.tandfonline.com/doi/abs/10.1080/03610926.2011.611317?needAccess=true&journalCode=lsta20). *Communications in Statistics - Theory and Methods, 42*(13), 2423-2436.\n",
    "- Zhang, J., Cavallari, J. M., Fang, S. C., Weisskopf, M. G., Lin, X., Mittleman, M. A., and Christiani, D. C. (2017). [Application of linear mixed-effects model with Lasso to identify metal components associated with cardiac autonomic responses among welders: a repeated measures study](https://pubmed.ncbi.nlm.nih.gov/28663305/). *Occupational and Environmental Medicine, 74*(11), 810-815."
   ]
  }
 ],
 "metadata": {
  "kernelspec": {
   "display_name": "R",
   "language": "R",
   "name": "ir"
  },
  "language_info": {
   "codemirror_mode": "r",
   "file_extension": ".r",
   "mimetype": "text/x-r-source",
   "name": "R",
   "pygments_lexer": "r",
   "version": "3.6.3"
  }
 },
 "nbformat": 4,
 "nbformat_minor": 4
}
